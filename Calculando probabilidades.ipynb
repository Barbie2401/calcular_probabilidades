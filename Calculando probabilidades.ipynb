{
 "cells": [
  {
   "cell_type": "markdown",
   "id": "2e50e8b8",
   "metadata": {},
   "source": [
    "# <center><font color='MediumSeaGreen'>Desafío - Calculando probabilidades</font><center>\n",
    "<center><b> Bárbara Pérez </b><center>\n"
   ]
  },
  {
   "cell_type": "markdown",
   "id": "a4325e4b",
   "metadata": {},
   "source": [
    "_____________"
   ]
  },
  {
   "cell_type": "markdown",
   "id": "23368dff",
   "metadata": {},
   "source": [
    "## <font color='MediumSeaGreen'>Requerimientos</font>"
   ]
  },
  {
   "cell_type": "markdown",
   "id": "6a1b41f6",
   "metadata": {},
   "source": [
    "<b><font color='MediumSeaGreen'>1.</font> Lectura de archivos</b>"
   ]
  },
  {
   "cell_type": "markdown",
   "id": "a7c4bf51",
   "metadata": {},
   "source": [
    "- Importa <span style='background:gainsboro'><font color='dimgray'>pandas</font></span> y <span style='background:gainsboro'><font color='dimgray'>numpy</font></span> siguiendo las convenciones.\n",
    "\n",
    "- Lee la base de datos <span style='background:gainsboro'><font color='dimgray'>worldcup2014.csv</font></span> y asígnela a un objeto <span style='background:gainsboro'><font color='dimgray'>df</font></span>.\n",
    "\n",
    "- Solicita las primeras 5 observaciones con <span style='background:gainsboro'><font color='dimgray'>head</font></span>.\n",
    "\n",
    "**(1 punto)**"
   ]
  },
  {
   "cell_type": "code",
   "execution_count": 1,
   "id": "147644ab",
   "metadata": {},
   "outputs": [],
   "source": [
    "import pandas as pd\n",
    "import numpy as np"
   ]
  },
  {
   "cell_type": "code",
   "execution_count": 2,
   "id": "ac2ac5e4",
   "metadata": {
    "scrolled": true
   },
   "outputs": [],
   "source": [
    "df = pd.read_csv('worldcup2014.csv')"
   ]
  },
  {
   "cell_type": "code",
   "execution_count": 3,
   "id": "ed7b637c",
   "metadata": {},
   "outputs": [
    {
     "data": {
      "text/html": [
       "<div>\n",
       "<style scoped>\n",
       "    .dataframe tbody tr th:only-of-type {\n",
       "        vertical-align: middle;\n",
       "    }\n",
       "\n",
       "    .dataframe tbody tr th {\n",
       "        vertical-align: top;\n",
       "    }\n",
       "\n",
       "    .dataframe thead th {\n",
       "        text-align: right;\n",
       "    }\n",
       "</style>\n",
       "<table border=\"1\" class=\"dataframe\">\n",
       "  <thead>\n",
       "    <tr style=\"text-align: right;\">\n",
       "      <th></th>\n",
       "      <th>team</th>\n",
       "      <th>continent</th>\n",
       "      <th>group</th>\n",
       "      <th>group_pos</th>\n",
       "      <th>cantidad_juegos</th>\n",
       "      <th>juegos_ganados</th>\n",
       "      <th>juegos_empatados</th>\n",
       "      <th>juegos_perdidos</th>\n",
       "      <th>goles_favor</th>\n",
       "      <th>goles_contra</th>\n",
       "      <th>goles_diferencia</th>\n",
       "      <th>puntos</th>\n",
       "      <th>clasificado</th>\n",
       "    </tr>\n",
       "  </thead>\n",
       "  <tbody>\n",
       "    <tr>\n",
       "      <th>0</th>\n",
       "      <td>Brazil</td>\n",
       "      <td>southamerica</td>\n",
       "      <td>A</td>\n",
       "      <td>1</td>\n",
       "      <td>3</td>\n",
       "      <td>2</td>\n",
       "      <td>1</td>\n",
       "      <td>0</td>\n",
       "      <td>7</td>\n",
       "      <td>2</td>\n",
       "      <td>5</td>\n",
       "      <td>7</td>\n",
       "      <td>1</td>\n",
       "    </tr>\n",
       "    <tr>\n",
       "      <th>1</th>\n",
       "      <td>Mexico</td>\n",
       "      <td>northamerica</td>\n",
       "      <td>A</td>\n",
       "      <td>2</td>\n",
       "      <td>3</td>\n",
       "      <td>2</td>\n",
       "      <td>1</td>\n",
       "      <td>0</td>\n",
       "      <td>4</td>\n",
       "      <td>1</td>\n",
       "      <td>3</td>\n",
       "      <td>7</td>\n",
       "      <td>1</td>\n",
       "    </tr>\n",
       "    <tr>\n",
       "      <th>2</th>\n",
       "      <td>Croatia</td>\n",
       "      <td>europe</td>\n",
       "      <td>A</td>\n",
       "      <td>3</td>\n",
       "      <td>3</td>\n",
       "      <td>1</td>\n",
       "      <td>0</td>\n",
       "      <td>2</td>\n",
       "      <td>6</td>\n",
       "      <td>6</td>\n",
       "      <td>0</td>\n",
       "      <td>3</td>\n",
       "      <td>0</td>\n",
       "    </tr>\n",
       "    <tr>\n",
       "      <th>3</th>\n",
       "      <td>Cameroon</td>\n",
       "      <td>africa</td>\n",
       "      <td>A</td>\n",
       "      <td>4</td>\n",
       "      <td>3</td>\n",
       "      <td>0</td>\n",
       "      <td>0</td>\n",
       "      <td>3</td>\n",
       "      <td>1</td>\n",
       "      <td>9</td>\n",
       "      <td>−8</td>\n",
       "      <td>0</td>\n",
       "      <td>0</td>\n",
       "    </tr>\n",
       "    <tr>\n",
       "      <th>4</th>\n",
       "      <td>Netherlands</td>\n",
       "      <td>europe</td>\n",
       "      <td>B</td>\n",
       "      <td>1</td>\n",
       "      <td>3</td>\n",
       "      <td>3</td>\n",
       "      <td>0</td>\n",
       "      <td>0</td>\n",
       "      <td>10</td>\n",
       "      <td>3</td>\n",
       "      <td>7</td>\n",
       "      <td>9</td>\n",
       "      <td>1</td>\n",
       "    </tr>\n",
       "  </tbody>\n",
       "</table>\n",
       "</div>"
      ],
      "text/plain": [
       "          team     continent group  group_pos  cantidad_juegos  \\\n",
       "0       Brazil  southamerica     A          1                3   \n",
       "1       Mexico  northamerica     A          2                3   \n",
       "2      Croatia        europe     A          3                3   \n",
       "3     Cameroon        africa     A          4                3   \n",
       "4  Netherlands        europe     B          1                3   \n",
       "\n",
       "   juegos_ganados  juegos_empatados  juegos_perdidos  goles_favor  \\\n",
       "0               2                 1                0            7   \n",
       "1               2                 1                0            4   \n",
       "2               1                 0                2            6   \n",
       "3               0                 0                3            1   \n",
       "4               3                 0                0           10   \n",
       "\n",
       "   goles_contra goles_diferencia  puntos  clasificado  \n",
       "0             2                5       7            1  \n",
       "1             1                3       7            1  \n",
       "2             6                0       3            0  \n",
       "3             9               −8       0            0  \n",
       "4             3                7       9            1  "
      ]
     },
     "execution_count": 3,
     "metadata": {},
     "output_type": "execute_result"
    }
   ],
   "source": [
    "df.head()"
   ]
  },
  {
   "cell_type": "markdown",
   "id": "4e399f24",
   "metadata": {},
   "source": [
    "_____________"
   ]
  },
  {
   "cell_type": "markdown",
   "id": "5333083c",
   "metadata": {},
   "source": [
    "<b><font color='MediumSeaGreen'>2.</font>  Frecuencia de continent:</b> utilizando <span style='background:gainsboro'><font color='dimgray'>value_counts</font></span> responde lo siguiente:"
   ]
  },
  {
   "cell_type": "markdown",
   "id": "f8fd9b9d",
   "metadata": {},
   "source": [
    "- ¿Cuál es el continente con una mayor presencia en la muestra?\n",
    "- ¿Cuál es la probabilidad de elegir un equipo asiático al azar?\n",
    "- ¿Cuál es la probabilidad de elegir un equipo africano al azar?\n",
    "\n",
    "**(1 punto)**"
   ]
  },
  {
   "cell_type": "code",
   "execution_count": 4,
   "id": "d96cbee3",
   "metadata": {},
   "outputs": [
    {
     "data": {
      "text/plain": [
       "europe          13\n",
       "southamerica     6\n",
       "africa           5\n",
       "northamerica     4\n",
       "asia             4\n",
       "Name: continent, dtype: int64"
      ]
     },
     "execution_count": 4,
     "metadata": {},
     "output_type": "execute_result"
    }
   ],
   "source": [
    "#calcular la frecuencia de continentes sobre la columna 'continent'\n",
    "df2=df['continent'].value_counts()\n",
    "df2"
   ]
  },
  {
   "cell_type": "markdown",
   "id": "47a3cf9a",
   "metadata": {},
   "source": [
    "- ¿Cuál es el continente con una mayor presencia en la muestra?\n",
    "\n",
    "El continente que tiene mayor presencia es **Europa**, con 13 grupos"
   ]
  },
  {
   "cell_type": "code",
   "execution_count": 5,
   "id": "29b51f87",
   "metadata": {},
   "outputs": [
    {
     "data": {
      "text/plain": [
       "12.5"
      ]
     },
     "execution_count": 5,
     "metadata": {},
     "output_type": "execute_result"
    }
   ],
   "source": [
    "#Probabilidad de elegir un grupo asiatico al azar\n",
    "(df2.asia.sum()/df2.sum())*100"
   ]
  },
  {
   "cell_type": "markdown",
   "id": "03c8cdad",
   "metadata": {},
   "source": [
    "- *¿Cuál es la probabilidad de elegir un equipo asiático al azar?*\n",
    "\n",
    "La probabilidad de elegir un equipo asiático al azar es de **12,5%**"
   ]
  },
  {
   "cell_type": "code",
   "execution_count": 6,
   "id": "4a843d8b",
   "metadata": {},
   "outputs": [
    {
     "data": {
      "text/plain": [
       "0.15625"
      ]
     },
     "execution_count": 6,
     "metadata": {},
     "output_type": "execute_result"
    }
   ],
   "source": [
    "#Probabilidad de elegir un equipo africano al azar\n",
    "df2.africa.sum()/df2.sum()"
   ]
  },
  {
   "cell_type": "markdown",
   "id": "7dc51167",
   "metadata": {},
   "source": [
    "- *¿Cuál es la probabilidad de elegir un equipo africano al azar?*\n",
    "\n",
    "La probabilidad de elegir un equipo africano al azar es de **15,6%**"
   ]
  },
  {
   "cell_type": "markdown",
   "id": "4528a271",
   "metadata": {},
   "source": [
    "____________________"
   ]
  },
  {
   "cell_type": "markdown",
   "id": "81278b7f",
   "metadata": {},
   "source": [
    "<b><font color='MediumSeaGreen'>3.</font> Generación de un subconjunto de datos:</b> por cada continente, genere un nuevo\n",
    "objeto que almacene sólo las observaciones del continente"
   ]
  },
  {
   "cell_type": "markdown",
   "id": "c55578ab",
   "metadata": {},
   "source": [
    "**Tip:** Para ello puede utilizar la siguiente sintaxis: <span style='background:gainsboro'><font color='dimgray'>df[df[</font><font color='FireBrick'>'variable'</font><font color='dimgray'>] ==condicion]</font></span>.\n",
    "\n",
    "**(1 punto)**"
   ]
  },
  {
   "cell_type": "code",
   "execution_count": 7,
   "id": "731612f5",
   "metadata": {},
   "outputs": [],
   "source": [
    "#Obtener nombres de los continenstes desde df\n",
    "nombres_continentes = df['continent'].value_counts().index.values"
   ]
  },
  {
   "cell_type": "code",
   "execution_count": 8,
   "id": "b846286a",
   "metadata": {
    "scrolled": true
   },
   "outputs": [
    {
     "data": {
      "text/plain": [
       "array(['europe', 'southamerica', 'africa', 'northamerica', 'asia'],\n",
       "      dtype=object)"
      ]
     },
     "execution_count": 8,
     "metadata": {},
     "output_type": "execute_result"
    }
   ],
   "source": [
    "#Mostrar lista de continentes\n",
    "nombres_continentes"
   ]
  },
  {
   "cell_type": "code",
   "execution_count": 9,
   "id": "9c8f8966",
   "metadata": {},
   "outputs": [],
   "source": [
    "#Creo un diccionario, la cual contiene como:\n",
    "#llave: el nombre del continente\n",
    "#valor: valor del df de ese continente\n",
    "continentes = {} \n",
    "for continente in nombres_continentes:\n",
    "    continentes[continente] = df[df['continent'] == continente]"
   ]
  },
  {
   "cell_type": "code",
   "execution_count": 10,
   "id": "e9b7c0c6",
   "metadata": {},
   "outputs": [
    {
     "name": "stdout",
     "output_type": "stream",
     "text": [
      "europe => <class 'pandas.core.frame.DataFrame'>\n",
      "                      team continent group  group_pos  cantidad_juegos  \\\n",
      "2                  Croatia    europe     A          3                3   \n",
      "4              Netherlands    europe     B          1                3   \n",
      "6                    Spain    europe     B          3                3   \n",
      "9                   Greece    europe     C          2                3   \n",
      "14                   Italy    europe     D          3                3   \n",
      "15                 England    europe     D          4                3   \n",
      "16                  France    europe     E          1                3   \n",
      "17             Switzerland    europe     E          2                3   \n",
      "22  Bosnia and Herzegovina    europe     F          3                3   \n",
      "24                 Germany    europe     G          1                3   \n",
      "26                Portugal    europe     G          3                3   \n",
      "28                 Belgium    europe     H          1                3   \n",
      "30                  Russia    europe     H          3                3   \n",
      "\n",
      "    juegos_ganados  juegos_empatados  juegos_perdidos  goles_favor  \\\n",
      "2                1                 0                2            6   \n",
      "4                3                 0                0           10   \n",
      "6                1                 0                2            4   \n",
      "9                1                 1                1            2   \n",
      "14               1                 0                2            2   \n",
      "15               0                 1                2            2   \n",
      "16               2                 1                0            8   \n",
      "17               2                 0                1            7   \n",
      "22               1                 0                2            4   \n",
      "24               2                 1                0            7   \n",
      "26               1                 1                1            4   \n",
      "28               3                 0                0            4   \n",
      "30               0                 2                1            2   \n",
      "\n",
      "    goles_contra goles_diferencia  puntos  clasificado  \n",
      "2              6                0       3            0  \n",
      "4              3                7       9            1  \n",
      "6              7               −3       3            0  \n",
      "9              4               −2       4            1  \n",
      "14             3               −1       3            0  \n",
      "15             4               −2       1            0  \n",
      "16             2                6       7            1  \n",
      "17             6                1       6            1  \n",
      "22             4                0       3            0  \n",
      "24             2                5       7            1  \n",
      "26             7               −3       4            0  \n",
      "28             1                3       9            1  \n",
      "30             3               −1       2            0  \n",
      "southamerica => <class 'pandas.core.frame.DataFrame'>\n",
      "         team     continent group  group_pos  cantidad_juegos  juegos_ganados  \\\n",
      "0      Brazil  southamerica     A          1                3               2   \n",
      "5       Chile  southamerica     B          2                3               2   \n",
      "8    Colombia  southamerica     C          1                3               3   \n",
      "13    Uruguay  southamerica     D          2                3               2   \n",
      "18    Ecuador  southamerica     E          3                3               1   \n",
      "20  Argentina  southamerica     F          1                3               3   \n",
      "\n",
      "    juegos_empatados  juegos_perdidos  goles_favor  goles_contra  \\\n",
      "0                  1                0            7             2   \n",
      "5                  0                1            5             3   \n",
      "8                  0                0            9             2   \n",
      "13                 0                1            4             4   \n",
      "18                 1                1            3             3   \n",
      "20                 0                0            6             3   \n",
      "\n",
      "   goles_diferencia  puntos  clasificado  \n",
      "0                 5       7            1  \n",
      "5                 2       6            1  \n",
      "8                 7       9            1  \n",
      "13                0       6            1  \n",
      "18                0       4            0  \n",
      "20                3       9            1  \n",
      "africa => <class 'pandas.core.frame.DataFrame'>\n",
      "           team continent group  group_pos  cantidad_juegos  juegos_ganados  \\\n",
      "3      Cameroon    africa     A          4                3               0   \n",
      "10  Ivory Coast    africa     C          3                3               1   \n",
      "21      Nigeria    africa     F          2                3               1   \n",
      "27        Ghana    africa     G          4                3               0   \n",
      "29      Algeria    africa     H          2                3               1   \n",
      "\n",
      "    juegos_empatados  juegos_perdidos  goles_favor  goles_contra  \\\n",
      "3                  0                3            1             9   \n",
      "10                 0                2            4             5   \n",
      "21                 1                1            3             3   \n",
      "27                 1                2            4             6   \n",
      "29                 1                1            6             5   \n",
      "\n",
      "   goles_diferencia  puntos  clasificado  \n",
      "3                −8       0            0  \n",
      "10               −1       3            0  \n",
      "21                0       4            1  \n",
      "27               −2       1            0  \n",
      "29                1       4            1  \n",
      "northamerica => <class 'pandas.core.frame.DataFrame'>\n",
      "             team     continent group  group_pos  cantidad_juegos  \\\n",
      "1          Mexico  northamerica     A          2                3   \n",
      "12     Costa Rica  northamerica     D          1                3   \n",
      "19       Honduras  northamerica     E          4                3   \n",
      "25  United States  northamerica     G          2                3   \n",
      "\n",
      "    juegos_ganados  juegos_empatados  juegos_perdidos  goles_favor  \\\n",
      "1                2                 1                0            4   \n",
      "12               2                 1                0            4   \n",
      "19               0                 0                3            1   \n",
      "25               1                 1                1            4   \n",
      "\n",
      "    goles_contra goles_diferencia  puntos  clasificado  \n",
      "1              1                3       7            1  \n",
      "12             1                3       7            1  \n",
      "19             8               −7       0            0  \n",
      "25             4                0       4            1  \n",
      "asia => <class 'pandas.core.frame.DataFrame'>\n",
      "           team continent group  group_pos  cantidad_juegos  juegos_ganados  \\\n",
      "7     Australia      asia     B          4                3               0   \n",
      "11        Japan      asia     C          4                3               0   \n",
      "23         Iran      asia     F          4                3               0   \n",
      "31  South Korea      asia     H          4                3               0   \n",
      "\n",
      "    juegos_empatados  juegos_perdidos  goles_favor  goles_contra  \\\n",
      "7                  0                3            3             9   \n",
      "11                 1                2            2             6   \n",
      "23                 1                2            1             4   \n",
      "31                 1                2            3             6   \n",
      "\n",
      "   goles_diferencia  puntos  clasificado  \n",
      "7                −6       0            0  \n",
      "11               −4       1            0  \n",
      "23               −3       1            0  \n",
      "31               −3       1            0  \n"
     ]
    }
   ],
   "source": [
    "#Imprimir listado de df's por continente, mostrar qie se cumple con lo solicitado\n",
    "\n",
    "for continente in continentes:\n",
    "    print(continente, \"=>\",type(continentes[continente])) #muestra el nombre del continente y que contien su df\n",
    "    print(continentes[continente]) #muestra el contenido del df"
   ]
  },
  {
   "cell_type": "markdown",
   "id": "8687a3e4",
   "metadata": {},
   "source": [
    "____________________________"
   ]
  },
  {
   "cell_type": "markdown",
   "id": "23ffc0d0",
   "metadata": {},
   "source": [
    "<b><font color='MediumSeaGreen'>4.</font> Probabilidad de clasificación a la siguiente ronda:</b> calcula la probabilidad de que un\n",
    "país pase a la siguiente ronda (clasifique) por continente"
   ]
  },
  {
   "cell_type": "markdown",
   "id": "77c47bbb",
   "metadata": {},
   "source": [
    "- ¿Cuál es la probabilidad de que un país asiático pase a la siguiente ronda?\n",
    "- ¿Cuáles son los dos continentes con la mayor probabilidad de clasificar?\n",
    "- ¿Cuál es la probabilidad de que un país europeo no clasifique?\n",
    "\n",
    "**(1 punto)**"
   ]
  },
  {
   "cell_type": "markdown",
   "id": "f7b45e97",
   "metadata": {},
   "source": [
    "**Tip:** El problema puede ser resuelto de varias formas:\n",
    "    \n",
    "    - La manera más intuitiva corresponde a calcular la probabilidad en cada subconjunto creado en el problema 3.\n",
    "\n",
    "    - Una forma alternativa es copiar todos los subsets creados en el problema 3 en una lista e iterar sobre dicha lista.\n",
    "\n",
    "    - Una forma más elegante consiste en utilizar una operación de agrupación por continente, y luego calcular la probabilidad.\n",
    "\n",
    "**(3 puntos)**"
   ]
  },
  {
   "cell_type": "code",
   "execution_count": 11,
   "id": "ddd649da",
   "metadata": {},
   "outputs": [
    {
     "name": "stdout",
     "output_type": "stream",
     "text": [
      "europe 46.15384615384615 %\n",
      "southamerica 83.33333333333334 %\n",
      "africa 40.0 %\n",
      "northamerica 75.0 %\n",
      "asia 0.0 %\n"
     ]
    }
   ],
   "source": [
    "#Posibilidad de que un país asiatico pase a la siguiente ronda:\n",
    "\n",
    "#Crear diccionario con los continentes y sus porcentajes\n",
    "probabilidad_por_continente = {}\n",
    "for continente in continentes: \n",
    "    #Crear loop\n",
    "    df_continente = continentes[continente]\n",
    "    #Calcular la probabilidad por continente\n",
    "    probabilidad_por_continente[continente] = df_continente[df_continente['clasificado'] == 1].shape[0]/df_continente.shape[0]\n",
    "    \n",
    "    #Imprimir el resultado\n",
    "    print(continente, probabilidad_por_continente[continente]*100, '%')"
   ]
  },
  {
   "cell_type": "markdown",
   "id": "00093033",
   "metadata": {},
   "source": [
    "- *¿Cuál es la probabilidad de que un país asiático pase a la siguiente ronda?*"
   ]
  },
  {
   "cell_type": "code",
   "execution_count": 12,
   "id": "7468d2d9",
   "metadata": {},
   "outputs": [
    {
     "name": "stdout",
     "output_type": "stream",
     "text": [
      "La probabilidad de que un pais asiático pase a la segunda ronda es de 0.0 %\n"
     ]
    }
   ],
   "source": [
    "print(f\"La probabilidad de que un pais asiático pase a la segunda ronda es de {probabilidad_por_continente['asia']} %\")"
   ]
  },
  {
   "cell_type": "markdown",
   "id": "a3b3af38",
   "metadata": {},
   "source": [
    "- *¿Cuáles son los dos continentes con la mayor probabilidad de clasificar?*"
   ]
  },
  {
   "cell_type": "code",
   "execution_count": 13,
   "id": "7f41fe11",
   "metadata": {
    "scrolled": false
   },
   "outputs": [
    {
     "data": {
      "text/html": [
       "<div>\n",
       "<style scoped>\n",
       "    .dataframe tbody tr th:only-of-type {\n",
       "        vertical-align: middle;\n",
       "    }\n",
       "\n",
       "    .dataframe tbody tr th {\n",
       "        vertical-align: top;\n",
       "    }\n",
       "\n",
       "    .dataframe thead th {\n",
       "        text-align: right;\n",
       "    }\n",
       "</style>\n",
       "<table border=\"1\" class=\"dataframe\">\n",
       "  <thead>\n",
       "    <tr style=\"text-align: right;\">\n",
       "      <th></th>\n",
       "      <th>continente</th>\n",
       "      <th>probabilidad</th>\n",
       "    </tr>\n",
       "  </thead>\n",
       "  <tbody>\n",
       "    <tr>\n",
       "      <th>1</th>\n",
       "      <td>southamerica</td>\n",
       "      <td>0.833333</td>\n",
       "    </tr>\n",
       "    <tr>\n",
       "      <th>3</th>\n",
       "      <td>northamerica</td>\n",
       "      <td>0.750000</td>\n",
       "    </tr>\n",
       "    <tr>\n",
       "      <th>0</th>\n",
       "      <td>europe</td>\n",
       "      <td>0.461538</td>\n",
       "    </tr>\n",
       "    <tr>\n",
       "      <th>2</th>\n",
       "      <td>africa</td>\n",
       "      <td>0.400000</td>\n",
       "    </tr>\n",
       "    <tr>\n",
       "      <th>4</th>\n",
       "      <td>asia</td>\n",
       "      <td>0.000000</td>\n",
       "    </tr>\n",
       "  </tbody>\n",
       "</table>\n",
       "</div>"
      ],
      "text/plain": [
       "     continente  probabilidad\n",
       "1  southamerica      0.833333\n",
       "3  northamerica      0.750000\n",
       "0        europe      0.461538\n",
       "2        africa      0.400000\n",
       "4          asia      0.000000"
      ]
     },
     "execution_count": 13,
     "metadata": {},
     "output_type": "execute_result"
    }
   ],
   "source": [
    "probabilidad_por_continente\n",
    "porcentaje_por_continente = pd.DataFrame.from_dict({'continente': list(probabilidad_por_continente.keys()), 'probabilidad': list(probabilidad_por_continente.values())})\n",
    "porcentaje_por_continente.sort_values(by ='probabilidad', ascending=False)"
   ]
  },
  {
   "cell_type": "code",
   "execution_count": 14,
   "id": "91cfdfa9",
   "metadata": {},
   "outputs": [
    {
     "data": {
      "text/plain": [
       "['europe', 'southamerica', 'africa', 'northamerica', 'asia']"
      ]
     },
     "execution_count": 14,
     "metadata": {},
     "output_type": "execute_result"
    }
   ],
   "source": [
    "list(probabilidad_por_continente.keys())"
   ]
  },
  {
   "cell_type": "code",
   "execution_count": 15,
   "id": "a7beaf68",
   "metadata": {},
   "outputs": [
    {
     "data": {
      "text/plain": [
       "[0.46153846153846156, 0.8333333333333334, 0.4, 0.75, 0.0]"
      ]
     },
     "execution_count": 15,
     "metadata": {},
     "output_type": "execute_result"
    }
   ],
   "source": [
    "list(probabilidad_por_continente.values())"
   ]
  },
  {
   "cell_type": "code",
   "execution_count": 16,
   "id": "50b3fc92",
   "metadata": {},
   "outputs": [],
   "source": [
    "#Construir un df en base al diccionario de continentes y probabilidades\n",
    "porcentaje_por_continente = pd.DataFrame.from_dict({'continente': list(probabilidad_por_continente.keys()), 'probabilidad': list(probabilidad_por_continente.values())})"
   ]
  },
  {
   "cell_type": "code",
   "execution_count": 17,
   "id": "e8cd746b",
   "metadata": {
    "scrolled": true
   },
   "outputs": [
    {
     "data": {
      "text/plain": [
       "1    southamerica\n",
       "3    northamerica\n",
       "Name: continente, dtype: object"
      ]
     },
     "execution_count": 17,
     "metadata": {},
     "output_type": "execute_result"
    }
   ],
   "source": [
    "#obtener los dos continentes con mayor probabilidad de clasificar\n",
    "dos_mayores = porcentaje_por_continente.sort_values(by ='probabilidad', ascending=False).head(2)['continente']\n",
    "dos_mayores"
   ]
  },
  {
   "cell_type": "code",
   "execution_count": 18,
   "id": "2e45b00f",
   "metadata": {},
   "outputs": [
    {
     "name": "stdout",
     "output_type": "stream",
     "text": [
      "Los dos continentes con mayor probabilidad de clasificar, en orden decreciente son: southamerica, y northamerica\n"
     ]
    }
   ],
   "source": [
    "print(\"Los dos continentes con mayor probabilidad de clasificar, en orden decreciente son: {}, y {}\".format(list(dos_mayores)[0], list(dos_mayores)[1]))"
   ]
  },
  {
   "cell_type": "markdown",
   "id": "c32997b6",
   "metadata": {},
   "source": [
    "- *¿Cuál es la probabilidad de que un país europeo no clasifique?*"
   ]
  },
  {
   "cell_type": "code",
   "execution_count": 19,
   "id": "96895c13",
   "metadata": {},
   "outputs": [
    {
     "name": "stdout",
     "output_type": "stream",
     "text": [
      "La probabilidad de no clasificar de un país europeo fue de 0.5384615384615384\n"
     ]
    }
   ],
   "source": [
    "#Obtener la probabilidad de no clasificar de un país europeo\n",
    "pais_europeo_no_clasifica = 1 - probabilidad_por_continente['europe']\n",
    "print(\"La probabilidad de no clasificar de un país europeo fue de {}\".format(pais_europeo_no_clasifica))"
   ]
  },
  {
   "cell_type": "markdown",
   "id": "5bb56d2c",
   "metadata": {},
   "source": [
    "____________________________"
   ]
  },
  {
   "cell_type": "markdown",
   "id": "f120a293",
   "metadata": {},
   "source": [
    "<b><font color='MediumSeaGreen'>5.</font> Probabilidad de victoria y derrota:</b> se pide utilizar <span style='background:gainsboro'><font color='dimgray'>value_counts</font></span> para calcular la probabilidad de que un continente contenga países con o sin victorias.\n",
    "\n",
    "Para ello crea una columna adicional llamada <span style='background:gainsboro'><font color='FireBrick'>'ha_ganado'</font></span> que contenga un 0 si es que un país no tiene juegos ganados y un 1 si es que ha ganado al menos un juego."
   ]
  },
  {
   "cell_type": "markdown",
   "id": "80bac8ab",
   "metadata": {},
   "source": [
    "**Sugerencias:** Para crear dicha columna puede revisar:\n",
    "\n",
    "- <span style='background:gainsboro'><font color='dimgray'>np.where</font></span>, de Numpy\n",
    "   \n",
    "- <span style='background:gainsboro'><font color='dimgray'>pd.where</font></span>, de Pandas\n",
    "    \n",
    "- Además puede utilizar los mismos procedimientos sugeridos en el Desafío 4."
   ]
  },
  {
   "cell_type": "markdown",
   "id": "a4f663c2",
   "metadata": {},
   "source": [
    "- Con base en el resultado del procedimiento recién descrito, responda lo\n",
    "siguiente:\n",
    "\n",
    "    A. ¿Qué continente tiene la mayor probabilidad de tener países con al menos 1\n",
    "victoria?\n",
    "\n",
    "    B. ¿Qué continente tiene un nivel similar entre países que tienen o no tienen\n",
    "victorias?"
   ]
  },
  {
   "cell_type": "markdown",
   "id": "ee0dcc98",
   "metadata": {},
   "source": [
    "- Reformule el código para juegos perdidos y analice los continentes con mayor\n",
    "probabilidad de tener países sin juegos perdidos.\n",
    "\n",
    "**(3 puntos)**"
   ]
  },
  {
   "cell_type": "markdown",
   "id": "20de2824",
   "metadata": {},
   "source": [
    "### Juegos ganados"
   ]
  },
  {
   "cell_type": "code",
   "execution_count": 20,
   "id": "a8657e53",
   "metadata": {},
   "outputs": [],
   "source": [
    "df['ha_ganado'] = np.where(df['juegos_ganados'] >= 1, 1, 0)"
   ]
  },
  {
   "cell_type": "code",
   "execution_count": 21,
   "id": "766887cf",
   "metadata": {},
   "outputs": [
    {
     "data": {
      "text/html": [
       "<div>\n",
       "<style scoped>\n",
       "    .dataframe tbody tr th:only-of-type {\n",
       "        vertical-align: middle;\n",
       "    }\n",
       "\n",
       "    .dataframe tbody tr th {\n",
       "        vertical-align: top;\n",
       "    }\n",
       "\n",
       "    .dataframe thead th {\n",
       "        text-align: right;\n",
       "    }\n",
       "</style>\n",
       "<table border=\"1\" class=\"dataframe\">\n",
       "  <thead>\n",
       "    <tr style=\"text-align: right;\">\n",
       "      <th></th>\n",
       "      <th>team</th>\n",
       "      <th>continent</th>\n",
       "      <th>group</th>\n",
       "      <th>group_pos</th>\n",
       "      <th>cantidad_juegos</th>\n",
       "      <th>juegos_ganados</th>\n",
       "      <th>juegos_empatados</th>\n",
       "      <th>juegos_perdidos</th>\n",
       "      <th>goles_favor</th>\n",
       "      <th>goles_contra</th>\n",
       "      <th>goles_diferencia</th>\n",
       "      <th>puntos</th>\n",
       "      <th>clasificado</th>\n",
       "      <th>ha_ganado</th>\n",
       "    </tr>\n",
       "  </thead>\n",
       "  <tbody>\n",
       "    <tr>\n",
       "      <th>0</th>\n",
       "      <td>Brazil</td>\n",
       "      <td>southamerica</td>\n",
       "      <td>A</td>\n",
       "      <td>1</td>\n",
       "      <td>3</td>\n",
       "      <td>2</td>\n",
       "      <td>1</td>\n",
       "      <td>0</td>\n",
       "      <td>7</td>\n",
       "      <td>2</td>\n",
       "      <td>5</td>\n",
       "      <td>7</td>\n",
       "      <td>1</td>\n",
       "      <td>1</td>\n",
       "    </tr>\n",
       "    <tr>\n",
       "      <th>1</th>\n",
       "      <td>Mexico</td>\n",
       "      <td>northamerica</td>\n",
       "      <td>A</td>\n",
       "      <td>2</td>\n",
       "      <td>3</td>\n",
       "      <td>2</td>\n",
       "      <td>1</td>\n",
       "      <td>0</td>\n",
       "      <td>4</td>\n",
       "      <td>1</td>\n",
       "      <td>3</td>\n",
       "      <td>7</td>\n",
       "      <td>1</td>\n",
       "      <td>1</td>\n",
       "    </tr>\n",
       "    <tr>\n",
       "      <th>2</th>\n",
       "      <td>Croatia</td>\n",
       "      <td>europe</td>\n",
       "      <td>A</td>\n",
       "      <td>3</td>\n",
       "      <td>3</td>\n",
       "      <td>1</td>\n",
       "      <td>0</td>\n",
       "      <td>2</td>\n",
       "      <td>6</td>\n",
       "      <td>6</td>\n",
       "      <td>0</td>\n",
       "      <td>3</td>\n",
       "      <td>0</td>\n",
       "      <td>1</td>\n",
       "    </tr>\n",
       "    <tr>\n",
       "      <th>3</th>\n",
       "      <td>Cameroon</td>\n",
       "      <td>africa</td>\n",
       "      <td>A</td>\n",
       "      <td>4</td>\n",
       "      <td>3</td>\n",
       "      <td>0</td>\n",
       "      <td>0</td>\n",
       "      <td>3</td>\n",
       "      <td>1</td>\n",
       "      <td>9</td>\n",
       "      <td>−8</td>\n",
       "      <td>0</td>\n",
       "      <td>0</td>\n",
       "      <td>0</td>\n",
       "    </tr>\n",
       "    <tr>\n",
       "      <th>4</th>\n",
       "      <td>Netherlands</td>\n",
       "      <td>europe</td>\n",
       "      <td>B</td>\n",
       "      <td>1</td>\n",
       "      <td>3</td>\n",
       "      <td>3</td>\n",
       "      <td>0</td>\n",
       "      <td>0</td>\n",
       "      <td>10</td>\n",
       "      <td>3</td>\n",
       "      <td>7</td>\n",
       "      <td>9</td>\n",
       "      <td>1</td>\n",
       "      <td>1</td>\n",
       "    </tr>\n",
       "  </tbody>\n",
       "</table>\n",
       "</div>"
      ],
      "text/plain": [
       "          team     continent group  group_pos  cantidad_juegos  \\\n",
       "0       Brazil  southamerica     A          1                3   \n",
       "1       Mexico  northamerica     A          2                3   \n",
       "2      Croatia        europe     A          3                3   \n",
       "3     Cameroon        africa     A          4                3   \n",
       "4  Netherlands        europe     B          1                3   \n",
       "\n",
       "   juegos_ganados  juegos_empatados  juegos_perdidos  goles_favor  \\\n",
       "0               2                 1                0            7   \n",
       "1               2                 1                0            4   \n",
       "2               1                 0                2            6   \n",
       "3               0                 0                3            1   \n",
       "4               3                 0                0           10   \n",
       "\n",
       "   goles_contra goles_diferencia  puntos  clasificado  ha_ganado  \n",
       "0             2                5       7            1          1  \n",
       "1             1                3       7            1          1  \n",
       "2             6                0       3            0          1  \n",
       "3             9               −8       0            0          0  \n",
       "4             3                7       9            1          1  "
      ]
     },
     "execution_count": 21,
     "metadata": {},
     "output_type": "execute_result"
    }
   ],
   "source": [
    "df.head()"
   ]
  },
  {
   "cell_type": "code",
   "execution_count": 22,
   "id": "58c89dcd",
   "metadata": {},
   "outputs": [
    {
     "data": {
      "text/plain": [
       "1    0.6\n",
       "0    0.4\n",
       "Name: ha_ganado, dtype: float64"
      ]
     },
     "execution_count": 22,
     "metadata": {},
     "output_type": "execute_result"
    }
   ],
   "source": [
    "df[df['continent'] == 'africa']['ha_ganado'].value_counts('%')"
   ]
  },
  {
   "cell_type": "code",
   "execution_count": 23,
   "id": "8bbbcbe4",
   "metadata": {},
   "outputs": [
    {
     "data": {
      "text/plain": [
       "continent     ha_ganado\n",
       "africa        1            0.600000\n",
       "              0            0.400000\n",
       "asia          0            1.000000\n",
       "europe        1            0.846154\n",
       "              0            0.153846\n",
       "northamerica  1            0.750000\n",
       "              0            0.250000\n",
       "southamerica  1            1.000000\n",
       "Name: ha_ganado, dtype: float64"
      ]
     },
     "execution_count": 23,
     "metadata": {},
     "output_type": "execute_result"
    }
   ],
   "source": [
    "df.groupby(['continent'])['ha_ganado'].value_counts('%') #.sort_values(ascending=False)"
   ]
  },
  {
   "cell_type": "markdown",
   "id": "1566a42d",
   "metadata": {},
   "source": [
    "**- ¿Qué continente tiene la mayor probabilidad de tener países con al menos 1 victoria?**"
   ]
  },
  {
   "cell_type": "markdown",
   "id": "d430a032",
   "metadata": {},
   "source": [
    "Se aprecia que:\n",
    "\n",
    "<li> Southamerica tuvo la mayor probabilidad de ganar juegos (100%)\n",
    "    \n",
    "<li> Africa fué el continente que presento una mayor similitud entre juegos ganados (60%) y perdidos (40%)    "
   ]
  },
  {
   "cell_type": "markdown",
   "id": "1e670863",
   "metadata": {},
   "source": [
    "_______"
   ]
  },
  {
   "cell_type": "markdown",
   "id": "f93e025a",
   "metadata": {},
   "source": [
    "### Juegos perdidos"
   ]
  },
  {
   "cell_type": "code",
   "execution_count": 24,
   "id": "7fdf74b4",
   "metadata": {},
   "outputs": [],
   "source": [
    "df['ha_perdido'] = np.where(df['juegos_perdidos'] >= 1, 1, 0)"
   ]
  },
  {
   "cell_type": "code",
   "execution_count": 25,
   "id": "6843e07d",
   "metadata": {
    "scrolled": true
   },
   "outputs": [
    {
     "data": {
      "text/html": [
       "<div>\n",
       "<style scoped>\n",
       "    .dataframe tbody tr th:only-of-type {\n",
       "        vertical-align: middle;\n",
       "    }\n",
       "\n",
       "    .dataframe tbody tr th {\n",
       "        vertical-align: top;\n",
       "    }\n",
       "\n",
       "    .dataframe thead th {\n",
       "        text-align: right;\n",
       "    }\n",
       "</style>\n",
       "<table border=\"1\" class=\"dataframe\">\n",
       "  <thead>\n",
       "    <tr style=\"text-align: right;\">\n",
       "      <th></th>\n",
       "      <th>team</th>\n",
       "      <th>continent</th>\n",
       "      <th>group</th>\n",
       "      <th>group_pos</th>\n",
       "      <th>cantidad_juegos</th>\n",
       "      <th>juegos_ganados</th>\n",
       "      <th>juegos_empatados</th>\n",
       "      <th>juegos_perdidos</th>\n",
       "      <th>goles_favor</th>\n",
       "      <th>goles_contra</th>\n",
       "      <th>goles_diferencia</th>\n",
       "      <th>puntos</th>\n",
       "      <th>clasificado</th>\n",
       "      <th>ha_ganado</th>\n",
       "      <th>ha_perdido</th>\n",
       "    </tr>\n",
       "  </thead>\n",
       "  <tbody>\n",
       "    <tr>\n",
       "      <th>0</th>\n",
       "      <td>Brazil</td>\n",
       "      <td>southamerica</td>\n",
       "      <td>A</td>\n",
       "      <td>1</td>\n",
       "      <td>3</td>\n",
       "      <td>2</td>\n",
       "      <td>1</td>\n",
       "      <td>0</td>\n",
       "      <td>7</td>\n",
       "      <td>2</td>\n",
       "      <td>5</td>\n",
       "      <td>7</td>\n",
       "      <td>1</td>\n",
       "      <td>1</td>\n",
       "      <td>0</td>\n",
       "    </tr>\n",
       "    <tr>\n",
       "      <th>1</th>\n",
       "      <td>Mexico</td>\n",
       "      <td>northamerica</td>\n",
       "      <td>A</td>\n",
       "      <td>2</td>\n",
       "      <td>3</td>\n",
       "      <td>2</td>\n",
       "      <td>1</td>\n",
       "      <td>0</td>\n",
       "      <td>4</td>\n",
       "      <td>1</td>\n",
       "      <td>3</td>\n",
       "      <td>7</td>\n",
       "      <td>1</td>\n",
       "      <td>1</td>\n",
       "      <td>0</td>\n",
       "    </tr>\n",
       "    <tr>\n",
       "      <th>2</th>\n",
       "      <td>Croatia</td>\n",
       "      <td>europe</td>\n",
       "      <td>A</td>\n",
       "      <td>3</td>\n",
       "      <td>3</td>\n",
       "      <td>1</td>\n",
       "      <td>0</td>\n",
       "      <td>2</td>\n",
       "      <td>6</td>\n",
       "      <td>6</td>\n",
       "      <td>0</td>\n",
       "      <td>3</td>\n",
       "      <td>0</td>\n",
       "      <td>1</td>\n",
       "      <td>1</td>\n",
       "    </tr>\n",
       "    <tr>\n",
       "      <th>3</th>\n",
       "      <td>Cameroon</td>\n",
       "      <td>africa</td>\n",
       "      <td>A</td>\n",
       "      <td>4</td>\n",
       "      <td>3</td>\n",
       "      <td>0</td>\n",
       "      <td>0</td>\n",
       "      <td>3</td>\n",
       "      <td>1</td>\n",
       "      <td>9</td>\n",
       "      <td>−8</td>\n",
       "      <td>0</td>\n",
       "      <td>0</td>\n",
       "      <td>0</td>\n",
       "      <td>1</td>\n",
       "    </tr>\n",
       "    <tr>\n",
       "      <th>4</th>\n",
       "      <td>Netherlands</td>\n",
       "      <td>europe</td>\n",
       "      <td>B</td>\n",
       "      <td>1</td>\n",
       "      <td>3</td>\n",
       "      <td>3</td>\n",
       "      <td>0</td>\n",
       "      <td>0</td>\n",
       "      <td>10</td>\n",
       "      <td>3</td>\n",
       "      <td>7</td>\n",
       "      <td>9</td>\n",
       "      <td>1</td>\n",
       "      <td>1</td>\n",
       "      <td>0</td>\n",
       "    </tr>\n",
       "  </tbody>\n",
       "</table>\n",
       "</div>"
      ],
      "text/plain": [
       "          team     continent group  group_pos  cantidad_juegos  \\\n",
       "0       Brazil  southamerica     A          1                3   \n",
       "1       Mexico  northamerica     A          2                3   \n",
       "2      Croatia        europe     A          3                3   \n",
       "3     Cameroon        africa     A          4                3   \n",
       "4  Netherlands        europe     B          1                3   \n",
       "\n",
       "   juegos_ganados  juegos_empatados  juegos_perdidos  goles_favor  \\\n",
       "0               2                 1                0            7   \n",
       "1               2                 1                0            4   \n",
       "2               1                 0                2            6   \n",
       "3               0                 0                3            1   \n",
       "4               3                 0                0           10   \n",
       "\n",
       "   goles_contra goles_diferencia  puntos  clasificado  ha_ganado  ha_perdido  \n",
       "0             2                5       7            1          1           0  \n",
       "1             1                3       7            1          1           0  \n",
       "2             6                0       3            0          1           1  \n",
       "3             9               −8       0            0          0           1  \n",
       "4             3                7       9            1          1           0  "
      ]
     },
     "execution_count": 25,
     "metadata": {},
     "output_type": "execute_result"
    }
   ],
   "source": [
    "df.head()"
   ]
  },
  {
   "cell_type": "code",
   "execution_count": 26,
   "id": "7782e074",
   "metadata": {},
   "outputs": [
    {
     "data": {
      "text/plain": [
       "1    1.0\n",
       "Name: ha_perdido, dtype: float64"
      ]
     },
     "execution_count": 26,
     "metadata": {},
     "output_type": "execute_result"
    }
   ],
   "source": [
    "df[df['continent'] == 'africa']['ha_perdido'].value_counts('%')"
   ]
  },
  {
   "cell_type": "code",
   "execution_count": 27,
   "id": "3ea3f617",
   "metadata": {},
   "outputs": [
    {
     "data": {
      "text/plain": [
       "continent     ha_perdido\n",
       "africa        1             1.000000\n",
       "asia          1             1.000000\n",
       "europe        1             0.692308\n",
       "              0             0.307692\n",
       "northamerica  0             0.500000\n",
       "              1             0.500000\n",
       "southamerica  0             0.500000\n",
       "              1             0.500000\n",
       "Name: ha_perdido, dtype: float64"
      ]
     },
     "execution_count": 27,
     "metadata": {},
     "output_type": "execute_result"
    }
   ],
   "source": [
    "df.groupby(['continent'])['ha_perdido'].value_counts('%') #.sort_values(ascending=False)"
   ]
  },
  {
   "cell_type": "markdown",
   "id": "137d5997",
   "metadata": {},
   "source": [
    "**-¿Qué continente tiene un nivel similar entre países que tienen o no tienen victorias?**"
   ]
  },
  {
   "cell_type": "markdown",
   "id": "41b14ed0",
   "metadata": {},
   "source": [
    "Se aprecia que:\n",
    "<li> Africa y Asia tuvieron la mayor probabilidad de perder juegos (100%)\n",
    "<li> Tanto NorteAmerica como SudAmerica presentaron una mayor similitud entre juegos ganados (50%) y perdidos (50%)"
   ]
  },
  {
   "cell_type": "markdown",
   "id": "9a9e0419",
   "metadata": {},
   "source": [
    "___"
   ]
  },
  {
   "cell_type": "markdown",
   "id": "123b9722",
   "metadata": {},
   "source": [
    "###### Reformule el código para juegos perdidos y analice los continentes con mayor probabilidad de tener países sin juegos perdidos."
   ]
  },
  {
   "cell_type": "code",
   "execution_count": 28,
   "id": "e2c49dfc",
   "metadata": {},
   "outputs": [],
   "source": [
    "#Asignar los dfs por continente obtenidos mas arriba, a las variables del ejemplo\n",
    "africa_df = continentes['africa']\n",
    "europe_df = continentes['europe']\n",
    "asia_df = continentes['asia']\n",
    "northamerica_df = continentes['northamerica']\n",
    "southamerica_df = continentes['southamerica']"
   ]
  },
  {
   "cell_type": "code",
   "execution_count": 29,
   "id": "cb1699f6",
   "metadata": {},
   "outputs": [
    {
     "name": "stdout",
     "output_type": "stream",
     "text": [
      "1    0.6\n",
      "0    0.4\n",
      "Name: juegos_ganados, dtype: float64\n",
      "1    0.461538\n",
      "2    0.230769\n",
      "3    0.153846\n",
      "0    0.153846\n",
      "Name: juegos_ganados, dtype: float64\n",
      "0    1.0\n",
      "Name: juegos_ganados, dtype: float64\n",
      "2    0.50\n",
      "0    0.25\n",
      "1    0.25\n",
      "Name: juegos_ganados, dtype: float64\n",
      "2    0.500000\n",
      "3    0.333333\n",
      "1    0.166667\n",
      "Name: juegos_ganados, dtype: float64\n"
     ]
    }
   ],
   "source": [
    "#Agrego el loop\n",
    "for d in [africa_df, europe_df, asia_df, northamerica_df, southamerica_df]:\n",
    "    print(d['juegos_ganados'].value_counts('%'))"
   ]
  },
  {
   "cell_type": "code",
   "execution_count": 30,
   "id": "b80d382f",
   "metadata": {},
   "outputs": [
    {
     "name": "stdout",
     "output_type": "stream",
     "text": [
      "------------------------------------\n",
      "3    africa\n",
      "Name: continent, dtype: object\n",
      "1    0.6\n",
      "0    0.4\n",
      "Name: juegos ganados, dtype: float64\n",
      "------------------------------------\n",
      "2    europe\n",
      "Name: continent, dtype: object\n",
      "1    0.846154\n",
      "0    0.153846\n",
      "Name: juegos ganados, dtype: float64\n",
      "------------------------------------\n",
      "7    asia\n",
      "Name: continent, dtype: object\n",
      "0    1.0\n",
      "Name: juegos ganados, dtype: float64\n",
      "------------------------------------\n",
      "1    northamerica\n",
      "Name: continent, dtype: object\n",
      "1    0.75\n",
      "0    0.25\n",
      "Name: juegos ganados, dtype: float64\n",
      "------------------------------------\n",
      "0    southamerica\n",
      "Name: continent, dtype: object\n",
      "1    1.0\n",
      "Name: juegos ganados, dtype: float64\n"
     ]
    },
    {
     "name": "stderr",
     "output_type": "stream",
     "text": [
      "C:\\ProgramData\\Anaconda3\\envs\\rstudio\\lib\\site-packages\\ipykernel_launcher.py:4: SettingWithCopyWarning: \n",
      "A value is trying to be set on a copy of a slice from a DataFrame.\n",
      "Try using .loc[row_indexer,col_indexer] = value instead\n",
      "\n",
      "See the caveats in the documentation: https://pandas.pydata.org/pandas-docs/stable/user_guide/indexing.html#returning-a-view-versus-a-copy\n",
      "  after removing the cwd from sys.path.\n"
     ]
    }
   ],
   "source": [
    "#Refactorización de los dfs usando como base el loop de ejemplo\n",
    "for d in [africa_df, europe_df, asia_df, northamerica_df, southamerica_df]:\n",
    "    #Agrego la nueva columna 'juegos ganados' (sin _ entre las palabras) y le asigno el valor correspondiente\n",
    "    d['juegos ganados'] = np.where((d['juegos_ganados'] >= 1), 1, 0)\n",
    "    #imprimo el resultado refactorizado\n",
    "    print(\"------------------------------------\")\n",
    "    print(d['continent'].head(1))\n",
    "    print(d['juegos ganados'].value_counts('%'))"
   ]
  },
  {
   "cell_type": "markdown",
   "id": "fab30fab",
   "metadata": {},
   "source": [
    "En base a la refactorización del código:\n",
    "<li> Southamerica tuvo la mayor probabilidad de ganar juegos (100%)\n",
    "<li> Africa fué el continente que presento una mayor similitud entre juegos ganados (60%) y perdidos (40%)"
   ]
  },
  {
   "cell_type": "markdown",
   "id": "af26e54a",
   "metadata": {},
   "source": [
    "<li> Si se considera un juego no ganado (perdido o empatado) como perdido, entonces se pueden usar los mismos datos y en consecuencia el continente con una mayor probabilidad de perder es asia (100% de partidos perdidos)"
   ]
  },
  {
   "cell_type": "markdown",
   "id": "5ecd60a7",
   "metadata": {},
   "source": [
    "_________"
   ]
  },
  {
   "cell_type": "markdown",
   "id": "741790f7",
   "metadata": {},
   "source": [
    "____________"
   ]
  }
 ],
 "metadata": {
  "kernelspec": {
   "display_name": "Python 3",
   "language": "python",
   "name": "python3"
  },
  "language_info": {
   "codemirror_mode": {
    "name": "ipython",
    "version": 3
   },
   "file_extension": ".py",
   "mimetype": "text/x-python",
   "name": "python",
   "nbconvert_exporter": "python",
   "pygments_lexer": "ipython3",
   "version": "3.7.1"
  }
 },
 "nbformat": 4,
 "nbformat_minor": 5
}
